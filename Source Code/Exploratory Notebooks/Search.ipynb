{
 "cells": [
  {
   "cell_type": "markdown",
   "id": "6c254db8-72df-4bca-afe2-d0bdc0daca14",
   "metadata": {},
   "source": [
    "# Execute embedding and search on remote server"
   ]
  },
  {
   "cell_type": "code",
   "execution_count": 1,
   "id": "1cef7926-c0f9-4875-89e3-af704d434462",
   "metadata": {},
   "outputs": [
    {
     "name": "stdout",
     "output_type": "stream",
     "text": [
      "Collecting paramiko\n",
      "  Downloading paramiko-3.5.1-py3-none-any.whl.metadata (4.6 kB)\n",
      "Collecting bcrypt>=3.2 (from paramiko)\n",
      "  Downloading bcrypt-4.3.0-cp39-abi3-manylinux_2_34_x86_64.whl.metadata (10 kB)\n",
      "Requirement already satisfied: cryptography>=3.3 in /opt/conda/lib/python3.12/site-packages (from paramiko) (44.0.2)\n",
      "Collecting pynacl>=1.5 (from paramiko)\n",
      "  Downloading PyNaCl-1.5.0-cp36-abi3-manylinux_2_17_x86_64.manylinux2014_x86_64.manylinux_2_24_x86_64.whl.metadata (8.6 kB)\n",
      "Requirement already satisfied: cffi>=1.12 in /opt/conda/lib/python3.12/site-packages (from cryptography>=3.3->paramiko) (1.17.1)\n",
      "Requirement already satisfied: pycparser in /opt/conda/lib/python3.12/site-packages (from cffi>=1.12->cryptography>=3.3->paramiko) (2.22)\n",
      "Downloading paramiko-3.5.1-py3-none-any.whl (227 kB)\n",
      "Downloading bcrypt-4.3.0-cp39-abi3-manylinux_2_34_x86_64.whl (284 kB)\n",
      "Downloading PyNaCl-1.5.0-cp36-abi3-manylinux_2_17_x86_64.manylinux2014_x86_64.manylinux_2_24_x86_64.whl (856 kB)\n",
      "\u001b[2K   \u001b[90m━━━━━━━━━━━━━━━━━━━━━━━━━━━━━━━━━━━━━━━━\u001b[0m \u001b[32m856.7/856.7 kB\u001b[0m \u001b[31m76.6 MB/s\u001b[0m eta \u001b[36m0:00:00\u001b[0m\n",
      "\u001b[?25hInstalling collected packages: bcrypt, pynacl, paramiko\n",
      "Successfully installed bcrypt-4.3.0 paramiko-3.5.1 pynacl-1.5.0\n"
     ]
    }
   ],
   "source": [
    "!pip install paramiko"
   ]
  },
  {
   "cell_type": "markdown",
   "id": "f717bd22-3c05-4db5-9033-48c2cb0494fc",
   "metadata": {},
   "source": [
    "## Transfer data file"
   ]
  },
  {
   "cell_type": "markdown",
   "id": "583e45e1-044b-4501-913f-3d2f6e40ce47",
   "metadata": {},
   "source": [
    "Configuration file for embedding and search"
   ]
  },
  {
   "cell_type": "code",
   "execution_count": 5,
   "id": "c8eb7c57-dcc8-4352-ba58-7677d871aa1c",
   "metadata": {},
   "outputs": [],
   "source": [
    "config={\"textfile\":\"test.dat.gz\", # always a file finishing by .dat.gz (jsonl compressed)\n",
    "        \"mode\": \"semsearch sdgbert\",\n",
    "        \"classes\": \"goals\" # goals, targets, both\n",
    "       }"
   ]
  },
  {
   "cell_type": "code",
   "execution_count": 7,
   "id": "829da42a-7dd3-474c-a2d7-9eb009c92917",
   "metadata": {},
   "outputs": [
    {
     "data": {
      "application/vnd.jupyter.widget-view+json": {
       "model_id": "56f167295bd84d3c9346d976e938c536",
       "version_major": 2,
       "version_minor": 0
      },
      "text/plain": [
       "Button(description='Send data to Server', style=ButtonStyle())"
      ]
     },
     "metadata": {},
     "output_type": "display_data"
    }
   ],
   "source": [
    "import getpass\n",
    "import subprocess\n",
    "import os\n",
    "from dotenv import load_dotenv\n",
    "import ipywidgets as widgets\n",
    "from IPython.display import display\n",
    "import json\n",
    "\n",
    "# Your code to be executed when the button is clicked\n",
    "def send_data_to_server():\n",
    "    # Load environment variables from .env file\n",
    "    load_dotenv()\n",
    "    mode=\"sdgbert\" #or semsearch\n",
    "    # Define a variable based on a value from .env\n",
    "    server = os.getenv(\"server\")\n",
    "    username=os.getenv(\"username\")\n",
    "    remote_host=username+\"@\"+server\n",
    "    filename = config[\"textfile\"]\n",
    "    filename3=\"searchconfig.json\"\n",
    "    print(remote_host)\n",
    "    with open('searchconfig.json', \"w\") as f:\n",
    "        json.dump(config, f, indent=4)\n",
    "          \n",
    "    remote_path = \"/home/codechallenge/InnoClass/backend/classEngine/data/\"\n",
    "    #password = getpass.getpass(f\"Enter password for {remote_host}: \")\n",
    "    #command = [\"scp\", \"-o\", f\"StrictHostKeyChecking=no\", \"-o\", f\"PreferredAuthentications=password\", filename, f\"{remote_host}:{remote_path}\"]\n",
    "    command = [\"scp\", filename, f\"{remote_host}:{remote_path}\"]\n",
    "    command3 = [\"scp\", filename3, f\"{remote_host}:{remote_path}\"]\n",
    "    try:\n",
    "        print(\"command 1 : \")\n",
    "        process = subprocess.Popen(command, stdin=subprocess.PIPE, stdout=subprocess.PIPE, stderr=subprocess.PIPE, text=True)\n",
    "        stdout, stderr = process.communicate() # Append newline to password\n",
    "        return_code = process.returncode\n",
    "        if return_code == 0:\n",
    "            print(\"SCP command executed successfully.\")\n",
    "            print(\"Output:\", stdout)\n",
    "        else:\n",
    "            print(f\"SCP command failed with error (code {return_code}):\")\n",
    "            print(\"Error!:\", stderr)\n",
    "        print(\"command2 : \")\n",
    "        process = subprocess.Popen(command3, stdin=subprocess.PIPE, stdout=subprocess.PIPE, stderr=subprocess.PIPE, text=True)\n",
    "        stdout, stderr = process.communicate() # Append newline to password\n",
    "        return_code = process.returncode\n",
    "    \n",
    "        if return_code == 0:\n",
    "            print(\"SCP command executed successfully.\")\n",
    "            print(\"Output:\", stdout)\n",
    "        else:\n",
    "            print(f\"SCP command failed with error (code {return_code}):\")\n",
    "            print(\"Error!:\", stderr)\n",
    "    \n",
    "    except FileNotFoundError:\n",
    "        print(\"Error: scp command not found.\")\n",
    "    \n",
    "    except Exception as e:\n",
    "        print(f\"An unexpected error occurred: {e}\")\n",
    "    print(\"Sending data to server...\")\n",
    "\n",
    "\n",
    "# Create the button\n",
    "send_button = widgets.Button(description=\"Send data to Server\")\n",
    "display(send_button)\n",
    "# Get list of files ending with \".sen.gz\" from current directory\n",
    "files = [f for f in os.listdir('.') if f.endswith('dat.gz')]\n",
    "files2 = [f for f in os.listdir('.') if f.endswith('.dat')]\n",
    "\n",
    "# Define the button's click event handler\n",
    "def on_button_click(b):  \n",
    "    send_data_to_server()\n",
    "\n",
    "# Attach the event handler to the button's click event\n",
    "send_button.on_click(on_button_click)"
   ]
  },
  {
   "cell_type": "code",
   "execution_count": 3,
   "id": "83db5303-0cd8-4fa4-acb1-4ef44ff287e6",
   "metadata": {},
   "outputs": [
    {
     "name": "stdout",
     "output_type": "stream",
     "text": [
      "Collecting paramiko\n",
      "  Downloading paramiko-3.5.1-py3-none-any.whl.metadata (4.6 kB)\n",
      "Collecting bcrypt>=3.2 (from paramiko)\n",
      "  Downloading bcrypt-4.3.0-cp39-abi3-manylinux_2_34_x86_64.whl.metadata (10 kB)\n",
      "Requirement already satisfied: cryptography>=3.3 in /opt/conda/lib/python3.12/site-packages (from paramiko) (44.0.2)\n",
      "Collecting pynacl>=1.5 (from paramiko)\n",
      "  Downloading PyNaCl-1.5.0-cp36-abi3-manylinux_2_17_x86_64.manylinux2014_x86_64.manylinux_2_24_x86_64.whl.metadata (8.6 kB)\n",
      "Requirement already satisfied: cffi>=1.12 in /opt/conda/lib/python3.12/site-packages (from cryptography>=3.3->paramiko) (1.17.1)\n",
      "Requirement already satisfied: pycparser in /opt/conda/lib/python3.12/site-packages (from cffi>=1.12->cryptography>=3.3->paramiko) (2.22)\n",
      "Downloading paramiko-3.5.1-py3-none-any.whl (227 kB)\n",
      "Downloading bcrypt-4.3.0-cp39-abi3-manylinux_2_34_x86_64.whl (284 kB)\n",
      "Downloading PyNaCl-1.5.0-cp36-abi3-manylinux_2_17_x86_64.manylinux2014_x86_64.manylinux_2_24_x86_64.whl (856 kB)\n",
      "\u001b[2K   \u001b[90m━━━━━━━━━━━━━━━━━━━━━━━━━━━━━━━━━━━━━━━━\u001b[0m \u001b[32m856.7/856.7 kB\u001b[0m \u001b[31m69.2 MB/s\u001b[0m eta \u001b[36m0:00:00\u001b[0m\n",
      "\u001b[?25hInstalling collected packages: bcrypt, pynacl, paramiko\n",
      "Successfully installed bcrypt-4.3.0 paramiko-3.5.1 pynacl-1.5.0\n"
     ]
    }
   ],
   "source": [
    "!pip install paramiko"
   ]
  },
  {
   "cell_type": "code",
   "execution_count": 4,
   "id": "bde59a5f-325d-4fa2-887a-777acd96c911",
   "metadata": {},
   "outputs": [
    {
     "data": {
      "application/vnd.jupyter.widget-view+json": {
       "model_id": "238533c3ccad4b14b546fb651f3f1f73",
       "version_major": 2,
       "version_minor": 0
      },
      "text/plain": [
       "Button(description='Execute Search on Server', style=ButtonStyle())"
      ]
     },
     "metadata": {},
     "output_type": "display_data"
    }
   ],
   "source": [
    "import paramiko\n",
    "import os\n",
    "from dotenv import load_dotenv\n",
    "load_dotenv()\n",
    "\n",
    "\n",
    "def execute_remote_command(hostname, username, private_key_path, command):\n",
    "    \"\"\"Executes a command on a remote machine using SSH keys.\"\"\"\n",
    "    try:\n",
    "        private_key = paramiko.Ed25519Key.from_private_key_file(private_key_path)\n",
    "        client = paramiko.SSHClient()\n",
    "        client.set_missing_host_key_policy(paramiko.AutoAddPolicy())\n",
    "        client.connect(hostname, username=username, pkey=private_key)\n",
    "\n",
    "        stdin, stdout, stderr = client.exec_command(command)\n",
    "        output = stdout.read().decode()\n",
    "        error = stderr.read().decode()\n",
    "\n",
    "        client.close()\n",
    "\n",
    "        if error:\n",
    "            print(f\"Error: {error}\")\n",
    "        return output\n",
    "\n",
    "    except Exception as e:\n",
    "        print(f\"An error occurred: {e}\")\n",
    "        return None\n",
    "\n",
    "execute_button = widgets.Button(description=\"Execute Search on Server\")\n",
    "# Define the button's click event handler\n",
    "def on_execute_button_click(b):\n",
    "    hostname = os.getenv(\"server\")\n",
    "    username = os.getenv(\"username\")\n",
    "    private_key_path = os.getenv(\"key\")\n",
    "    command = \"cd /home/codechallenge/InnoClass/backend/; docker-compose up embedsearch\"  # Replace with your desired command\n",
    "    result = execute_remote_command(hostname,username, private_key_path,command)\n",
    "    \n",
    "    if result:\n",
    "        print(\"Command output:\")\n",
    "        print(result)\n",
    "\n",
    "# Attach the event handler to the button's click event\n",
    "execute_button.on_click(on_execute_button_click)\n",
    "display(execute_button)\n"
   ]
  },
  {
   "cell_type": "code",
   "execution_count": null,
   "id": "e77f4668-894e-45be-9aed-b90c6898d8fa",
   "metadata": {},
   "outputs": [],
   "source": []
  }
 ],
 "metadata": {
  "kernelspec": {
   "display_name": "Python 3 (ipykernel)",
   "language": "python",
   "name": "python3"
  },
  "language_info": {
   "codemirror_mode": {
    "name": "ipython",
    "version": 3
   },
   "file_extension": ".py",
   "mimetype": "text/x-python",
   "name": "python",
   "nbconvert_exporter": "python",
   "pygments_lexer": "ipython3",
   "version": "3.12.9"
  }
 },
 "nbformat": 4,
 "nbformat_minor": 5
}
