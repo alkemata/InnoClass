{
 "cells": [
  {
   "cell_type": "code",
   "execution_count": 1,
   "id": "f7f418eb-2bfd-4fe4-a506-665a209b7840",
   "metadata": {},
   "outputs": [],
   "source": [
    "from epo.tipdata.epab import EPABClient"
   ]
  },
  {
   "cell_type": "code",
   "execution_count": 2,
   "id": "a16088f8-3dff-421b-9e54-8a5e20b7e8c8",
   "metadata": {},
   "outputs": [],
   "source": [
    "epab = EPABClient(env=\"TEST\")"
   ]
  },
  {
   "cell_type": "code",
   "execution_count": 3,
   "id": "95ac12df-aa0c-4870-8def-bef5b0313b54",
   "metadata": {},
   "outputs": [
    {
     "data": {
      "application/vnd.jupyter.widget-view+json": {
       "model_id": "315dbaa76d7848afad5dc04dc47761d1",
       "version_major": 2,
       "version_minor": 0
      },
      "text/plain": [
       "WidDatabaseFields(header='', input_data={'': [{'name': 'epab_doc_id', 'type': 'STRING', 'mode': 'REQUIRED', 'd…"
      ]
     },
     "execution_count": 3,
     "metadata": {},
     "output_type": "execute_result"
    }
   ],
   "source": [
    "epab.fields()"
   ]
  },
  {
   "cell_type": "code",
   "execution_count": 4,
   "id": "a237c629-5757-4b69-9edd-228156ac849c",
   "metadata": {},
   "outputs": [],
   "source": [
    "statement = f\"\"\"\n",
    "SELECT epab_doc_id, description\n",
    "FROM `{epab.full_table_name}`\n",
    "WHERE description.language=\"EN\"\n",
    "ORDER BY RAND()\n",
    "LIMIT 5;\"\"\""
   ]
  },
  {
   "cell_type": "code",
   "execution_count": 5,
   "id": "c829f1f4-c02b-496f-b257-a20d6a4d7274",
   "metadata": {},
   "outputs": [],
   "source": [
    "results = epab.sql_query(statement)"
   ]
  },
  {
   "cell_type": "code",
   "execution_count": 6,
   "id": "7d679c48-0d91-43fb-a5fd-c6c84b197323",
   "metadata": {},
   "outputs": [
    {
     "name": "stdout",
     "output_type": "stream",
     "text": [
      "Requirement already satisfied: regex in /opt/conda/lib/python3.11/site-packages (2024.11.6)\n"
     ]
    }
   ],
   "source": [
    "!pip install regex"
   ]
  },
  {
   "cell_type": "code",
   "execution_count": 7,
   "id": "14231e44-a44f-42e5-be03-317d35ac8845",
   "metadata": {},
   "outputs": [],
   "source": [
    "import regex as re"
   ]
  },
  {
   "cell_type": "code",
   "execution_count": 12,
   "id": "88a2c2e7-4cf7-499f-9ae3-fbb63935805e",
   "metadata": {},
   "outputs": [
    {
     "name": "stdout",
     "output_type": "stream",
     "text": [
      "Ratio of texts found: 0.8\n",
      "\n",
      "Extracted Sections DataFrame:\n",
      "           epab_doc_id                                               text\n",
      "0  EP0410387B220010711                                                   \n",
      "1  EP0142374B119920826  <heading id=\"h0001\"><u style=\"single\">BACKGROU...\n",
      "2  EP0035334A219810909  <heading id=\"h0001\">INTRODUCTION</heading><p i...\n",
      "3  EP1696584B120071226  <heading id=\"h0001\"><b>BACKGROUND OF THE INVEN...\n",
      "4  EP1151233B120050406  <heading id=\"h0001\"><b>TECHNICAL FIELD</b></he...\n"
     ]
    }
   ],
   "source": [
    "import regex as re\n",
    "import pandas as pd\n",
    "from IPython.display import display\n",
    "import html\n",
    "\n",
    "# Example list of documents (each document is a dictionary)\n",
    "docs = [{'epab_doc_id': item['epab_doc_id'], 'text': item['description']['text']} for item in results]\n",
    "\n",
    "# List of keywords to search in headings (fuzzy matching will allow up to one error)\n",
    "keywords = [\"background\", \"field of invention\"]\n",
    "\n",
    "# Build a fuzzy matching regex pattern for the keywords.\n",
    "# The regex module (not built-in re) allows fuzzy matching via {e<=1} (one error allowed).\n",
    "keyword_pattern = r\"(?:\" + \"|\".join([f\"({re.escape(kw)}){{e<=1}}\" for kw in keywords]) + r\")\"\n",
    "\n",
    "# Compile a regex pattern that finds a section starting with a heading\n",
    "# that contains one of the keywords (using fuzzy matching).\n",
    "# The pattern (with flags for case-insensitive, multiline and dot-all):\n",
    "#   - Looks for a line starting at the beginning (^) that contains (some text + one keyword match)\n",
    "#   - Then a newline followed by content (non-greedy) until a new section is encountered.\n",
    "#     (A new section is assumed when a new line starts with a non-space character)\n",
    "pattern = re.compile(\n",
    "    r\"(?ims)^(?P<section>(?P<heading>.*\" + keyword_pattern + r\".*)\\n(?P<content>.*?))(?=^\\S|\\Z)\"\n",
    ")\n",
    "\n",
    "extracted_docs = []\n",
    "num_found = 0\n",
    "total_docs = len(docs)\n",
    "\n",
    "# Process each document\n",
    "for doc in docs:\n",
    "    text = doc['text']\n",
    "    extracted_sections = []\n",
    "    # Find all sections that match the pattern\n",
    "    for match in pattern.finditer(text):\n",
    "        section = match.group(\"section\").strip()\n",
    "        extracted_sections.append(section)\n",
    "    # Combine sections (if more than one) with a double newline separator\n",
    "    combined_text = \"\\n\\n\".join(extracted_sections)\n",
    "    if combined_text:  # if at least one section was found, count this document as \"found\"\n",
    "        num_found += 1\n",
    "    extracted_docs.append({\n",
    "        'epab_doc_id': doc['epab_doc_id'],\n",
    "        'text': combined_text\n",
    "    })\n",
    "\n",
    "# Create a DataFrame with the extracted sections\n",
    "df = pd.DataFrame(extracted_docs)\n",
    "\n",
    "# Calculate and display the ratio of texts where at least one section was found\n",
    "ratio = num_found / total_docs if total_docs > 0 else 0\n",
    "print(\"Ratio of texts found:\", ratio)\n",
    "\n",
    "# Display the DataFrame\n",
    "print(\"\\nExtracted Sections DataFrame:\")\n",
    "print(df)\n"
   ]
  },
  {
   "cell_type": "code",
   "execution_count": 14,
   "id": "dbfa512d-59dc-4373-b843-92fc96e97a49",
   "metadata": {},
   "outputs": [
    {
     "data": {
      "application/vnd.jupyter.widget-view+json": {
       "model_id": "2e54fbc71b614bbf9365fe158fb2fe34",
       "version_major": 2,
       "version_minor": 0
      },
      "text/plain": [
       "VBox(children=(HTML(value=''), HBox(children=(HTML(value='', layout=Layout(height='300px', width='50%')), VBox…"
      ]
     },
     "metadata": {},
     "output_type": "display_data"
    }
   ],
   "source": [
    "import regex as re\n",
    "import pandas as pd\n",
    "import ipywidgets as widgets\n",
    "from IPython.display import display\n",
    "\n",
    "# --- Step 1. Create the DataFrame with extracted sections and original text ---\n",
    "\n",
    "# Example list of documents\n",
    "docs = [{'epab_doc_id': item['epab_doc_id'], 'text': item['description']['text']} for item in results]\n",
    "\n",
    "\n",
    "# Keywords to search for in headings (allowing fuzzy matching with up to one error)\n",
    "keywords = [\"background\",  \"prior art\", \"summary\", \"state of the art\", \"field of the invention\", \"technical field\"]\n",
    "keyword_pattern = r\"(?:\" + \"|\".join([f\"({re.escape(kw)}){{e<=1}}\" for kw in keywords]) + r\")\"\n",
    "\n",
    "# Regex pattern: look for a heading containing one of the keywords and capture until the next heading.\n",
    "pattern = re.compile(\n",
    "    r\"(?ims)^(?P<section>(?P<heading>.*\" + keyword_pattern + r\".*)\\n(?P<content>.*?))(?=^\\S|\\Z)\"\n",
    ")\n",
    "\n",
    "extracted_docs = []\n",
    "for doc in docs:\n",
    "    text = doc['text']\n",
    "    extracted_sections = []\n",
    "    for match in pattern.finditer(text):\n",
    "        section = match.group(\"section\").strip()\n",
    "        extracted_sections.append(section)\n",
    "    combined_text = \"\\n\\n\".join(extracted_sections)\n",
    "    extracted_docs.append({\n",
    "        'epab_doc_id': doc['epab_doc_id'],\n",
    "        'extracted_text': combined_text,\n",
    "        'original_text': text\n",
    "    })\n",
    "\n",
    "df = pd.DataFrame(extracted_docs)\n",
    "total_docs = len(df)\n",
    "\n",
    "# --- Step 2. Create the JupyterLab widget with two side-by-side displays and navigation buttons ---\n",
    "\n",
    "# Global state variables.\n",
    "current_index = 0\n",
    "source_mode = False  # False: rendered view; True: source view (raw text with highlighted tags)\n",
    "\n",
    "# Create two HTML widgets for the displays.\n",
    "# Both are set to 50% width and a fixed height with a vertical scrollbar.\n",
    "extracted_html = widgets.HTML(\n",
    "    value=\"\",\n",
    "    layout=widgets.Layout(width='50%', height='300px', overflow_y='scroll')\n",
    ")\n",
    "original_html = widgets.HTML(\n",
    "    value=\"\",\n",
    "    layout=widgets.Layout(width='100%', height='300px', overflow_y='scroll')\n",
    ")\n",
    "\n",
    "# Create a toggle button (placed above the right display).\n",
    "toggle_button = widgets.Button(\n",
    "    description=\"Switch to Source Display\",\n",
    "    layout=widgets.Layout(width='100%')\n",
    ")\n",
    "\n",
    "# Navigation buttons.\n",
    "prev_button = widgets.Button(description=\"← Previous\", layout=widgets.Layout(width='150px'))\n",
    "next_button = widgets.Button(description=\"Next →\", layout=widgets.Layout(width='150px'))\n",
    "\n",
    "# Optional document indicator.\n",
    "doc_indicator = widgets.HTML(value=\"\")\n",
    "\n",
    "# Function to update the displays based on the current document and display mode.\n",
    "def update_text(index):\n",
    "    if 0 <= index < total_docs:\n",
    "        doc = df.iloc[index]\n",
    "        # Left side: display extracted text (raw, preserving whitespace)\n",
    "        extracted_html.value = f\"<div style='white-space: pre-wrap;'>{doc['extracted_text'] or '(No extracted section found)'}</div>\"\n",
    "        \n",
    "        # Right side: display original text.\n",
    "        if source_mode:\n",
    "            # Source view: escape HTML so that tags are visible.\n",
    "            raw = doc['original_text']\n",
    "            escaped = html.escape(raw)\n",
    "            # Highlight HTML tags (non-greedy match) with a yellow background.\n",
    "            highlighted = re.sub(r'(&lt;.*?&gt;)', r'<span style=\"background-color: yellow;\">\\1</span>', escaped)\n",
    "            # Use a <pre> block to preserve formatting.\n",
    "            original_html.value = f\"<pre style='white-space: pre-wrap;'>{highlighted}</pre>\"\n",
    "        else:\n",
    "            # Rendered view: display the original HTML.\n",
    "            original_html.value = f\"<div style='white-space: pre-wrap;'>{doc['original_text']}</div>\"\n",
    "        \n",
    "        doc_indicator.value = f\"<b>Document {index+1}/{total_docs}</b> (ID: {doc['epab_doc_id']})\"\n",
    "\n",
    "# Callback functions for the navigation and toggle buttons.\n",
    "def on_prev_clicked(b):\n",
    "    global current_index\n",
    "    if current_index > 0:\n",
    "        current_index -= 1\n",
    "        update_text(current_index)\n",
    "\n",
    "def on_next_clicked(b):\n",
    "    global current_index\n",
    "    if current_index < total_docs - 1:\n",
    "        current_index += 1\n",
    "        update_text(current_index)\n",
    "\n",
    "def on_toggle_clicked(b):\n",
    "    global source_mode\n",
    "    source_mode = not source_mode\n",
    "    toggle_button.description = \"Switch to Rendered Display\" if source_mode else \"Switch to Source Display\"\n",
    "    update_text(current_index)\n",
    "\n",
    "prev_button.on_click(on_prev_clicked)\n",
    "next_button.on_click(on_next_clicked)\n",
    "toggle_button.on_click(on_toggle_clicked)\n",
    "\n",
    "# Assemble the layout.\n",
    "# The right side now contains the toggle button above the original text display.\n",
    "right_side = widgets.VBox([toggle_button, original_html], layout=widgets.Layout(width=\"50%\"))\n",
    "html_areas = widgets.HBox([extracted_html, right_side])\n",
    "nav_buttons = widgets.HBox([prev_button, next_button])\n",
    "widget_box = widgets.VBox([doc_indicator, html_areas, nav_buttons])\n",
    "\n",
    "# Display the widget.\n",
    "display(widget_box)\n",
    "\n",
    "# Initialize with the first document (if available).\n",
    "if total_docs > 0:\n",
    "    update_text(current_index)"
   ]
  },
  {
   "cell_type": "code",
   "execution_count": null,
   "id": "faf67590-75c8-4da8-a6b7-e3f793c8aee0",
   "metadata": {},
   "outputs": [],
   "source": []
  }
 ],
 "metadata": {
  "kernelspec": {
   "display_name": "Python 3 (ipykernel)",
   "language": "python",
   "name": "python3"
  },
  "language_info": {
   "codemirror_mode": {
    "name": "ipython",
    "version": 3
   },
   "file_extension": ".py",
   "mimetype": "text/x-python",
   "name": "python",
   "nbconvert_exporter": "python",
   "pygments_lexer": "ipython3",
   "version": "3.11.10"
  }
 },
 "nbformat": 4,
 "nbformat_minor": 5
}
